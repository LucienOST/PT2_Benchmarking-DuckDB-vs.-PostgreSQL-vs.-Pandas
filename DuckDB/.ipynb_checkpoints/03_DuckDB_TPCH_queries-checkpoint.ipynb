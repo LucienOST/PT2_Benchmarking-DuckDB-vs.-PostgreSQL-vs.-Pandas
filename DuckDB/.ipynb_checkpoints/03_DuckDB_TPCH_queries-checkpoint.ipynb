{
 "cells": [
  {
   "cell_type": "code",
   "execution_count": 1,
   "id": "ecdd2b45",
   "metadata": {},
   "outputs": [],
   "source": [
    "import time\n",
    "import sys\n",
    "import duckdb\n",
    "import numpy as np\n",
    "import pandas as pd\n",
    "from pathlib import Path\n",
    "from sqlalchemy import create_engine"
   ]
  },
  {
   "cell_type": "code",
   "execution_count": 2,
   "id": "aeb94eb9",
   "metadata": {},
   "outputs": [],
   "source": [
    "app_dir = Path().cwd().parent.absolute()\n",
    "sys.path.insert(0, str(app_dir))"
   ]
  },
  {
   "cell_type": "code",
   "execution_count": 6,
   "id": "6cc868b5",
   "metadata": {},
   "outputs": [],
   "source": [
    "from app.configuration import Config\n",
    "from app.functions import query1"
   ]
  },
  {
   "cell_type": "code",
   "execution_count": 4,
   "id": "909b2616",
   "metadata": {},
   "outputs": [],
   "source": [
    "config = Config()"
   ]
  },
  {
   "cell_type": "code",
   "execution_count": 5,
   "id": "749089ca",
   "metadata": {},
   "outputs": [],
   "source": [
    "engine = create_engine(config.tpch_database)"
   ]
  },
  {
   "cell_type": "code",
   "execution_count": 13,
   "id": "754c397e",
   "metadata": {},
   "outputs": [
    {
     "data": {
      "text/html": [
       "<div>\n",
       "<style scoped>\n",
       "    .dataframe tbody tr th:only-of-type {\n",
       "        vertical-align: middle;\n",
       "    }\n",
       "\n",
       "    .dataframe tbody tr th {\n",
       "        vertical-align: top;\n",
       "    }\n",
       "\n",
       "    .dataframe thead th {\n",
       "        text-align: right;\n",
       "    }\n",
       "</style>\n",
       "<table border=\"1\" class=\"dataframe\">\n",
       "  <thead>\n",
       "    <tr style=\"text-align: right;\">\n",
       "      <th></th>\n",
       "      <th>l_orderkey</th>\n",
       "      <th>l_partkey</th>\n",
       "      <th>l_suppkey</th>\n",
       "      <th>l_linenumber</th>\n",
       "      <th>l_quantity</th>\n",
       "      <th>l_extendedprice</th>\n",
       "      <th>l_discount</th>\n",
       "      <th>l_tax</th>\n",
       "      <th>l_returnflag</th>\n",
       "      <th>l_linestatus</th>\n",
       "      <th>l_shipdate</th>\n",
       "      <th>l_commitdate</th>\n",
       "      <th>l_receiptdate</th>\n",
       "      <th>l_shipinstruct</th>\n",
       "      <th>l_shipmode</th>\n",
       "      <th>l_comment</th>\n",
       "      <th>l_dummy</th>\n",
       "    </tr>\n",
       "  </thead>\n",
       "  <tbody>\n",
       "    <tr>\n",
       "      <th>0</th>\n",
       "      <td>1285152</td>\n",
       "      <td>48189</td>\n",
       "      <td>3859</td>\n",
       "      <td>2</td>\n",
       "      <td>595.47</td>\n",
       "      <td>9230.35</td>\n",
       "      <td>0.02</td>\n",
       "      <td>0.05</td>\n",
       "      <td>A</td>\n",
       "      <td>F</td>\n",
       "      <td>1994-05-28</td>\n",
       "      <td>1993-07-02</td>\n",
       "      <td>1997-09-20</td>\n",
       "      <td>COLLECT COD</td>\n",
       "      <td>FEDEX</td>\n",
       "      <td>random comment</td>\n",
       "      <td>None</td>\n",
       "    </tr>\n",
       "    <tr>\n",
       "      <th>1</th>\n",
       "      <td>286757</td>\n",
       "      <td>72860</td>\n",
       "      <td>433</td>\n",
       "      <td>5</td>\n",
       "      <td>438.26</td>\n",
       "      <td>7210.52</td>\n",
       "      <td>0.08</td>\n",
       "      <td>0.05</td>\n",
       "      <td>A</td>\n",
       "      <td>F</td>\n",
       "      <td>1998-01-03</td>\n",
       "      <td>1995-02-16</td>\n",
       "      <td>1995-07-30</td>\n",
       "      <td>COLLECT COD</td>\n",
       "      <td>FEDEX</td>\n",
       "      <td>random comment</td>\n",
       "      <td>None</td>\n",
       "    </tr>\n",
       "  </tbody>\n",
       "</table>\n",
       "</div>"
      ],
      "text/plain": [
       "   l_orderkey  l_partkey  l_suppkey  l_linenumber  l_quantity  \\\n",
       "0     1285152      48189       3859             2      595.47   \n",
       "1      286757      72860        433             5      438.26   \n",
       "\n",
       "   l_extendedprice  l_discount  l_tax l_returnflag l_linestatus l_shipdate  \\\n",
       "0          9230.35        0.02   0.05            A            F 1994-05-28   \n",
       "1          7210.52        0.08   0.05            A            F 1998-01-03   \n",
       "\n",
       "  l_commitdate l_receiptdate             l_shipinstruct  l_shipmode  \\\n",
       "0   1993-07-02    1997-09-20  COLLECT COD                FEDEX        \n",
       "1   1995-02-16    1995-07-30  COLLECT COD                FEDEX        \n",
       "\n",
       "        l_comment l_dummy  \n",
       "0  random comment    None  \n",
       "1  random comment    None  "
      ]
     },
     "execution_count": 13,
     "metadata": {},
     "output_type": "execute_result"
    }
   ],
   "source": [
    "lineitems_ = \"\"\"SELECT * FROM tpch.lineitem LIMIT 50\"\"\"\n",
    "with engine.connect() as con:\n",
    "    lineitem = pd.read_sql(lineitems_, con, parse_dates=['l_shipdate', 'l_commitdate', 'l_receiptdate'])\n",
    "lineitem.head(2)"
   ]
  },
  {
   "cell_type": "code",
   "execution_count": 15,
   "id": "f6d0a243",
   "metadata": {},
   "outputs": [
    {
     "name": "stdout",
     "output_type": "stream",
     "text": [
      "                           l_quantity  l_extendedprice   disc_price  \\\n",
      "l_returnflag l_linestatus                                             \n",
      "A            F             538.840682      5506.643636  228406.3871   \n",
      "             O             425.020000      3956.205000    7827.8828   \n",
      "\n",
      "                                  charge  l_discount  l_shipdate  \n",
      "l_returnflag l_linestatus                                         \n",
      "A            F             234582.209543    0.054773          44  \n",
      "             O               7896.441000    0.040000           2  \n",
      "Base Pandas: 0.010205268859863281 seconds\n"
     ]
    }
   ],
   "source": [
    "start = time.time()\n",
    "print(query1(lineitem))\n",
    "end = time.time()\n",
    "\n",
    "print('Base Pandas: ' + str(end - start) + \" seconds\")"
   ]
  },
  {
   "cell_type": "code",
   "execution_count": 16,
   "id": "51465238",
   "metadata": {},
   "outputs": [
    {
     "name": "stdout",
     "output_type": "stream",
     "text": [
      "┌──────────────┬──────────────┬────────────────────┬────────────────────┬────────────────────┬────────────────────┬───────────────────┬───────────────────┬──────────────────────┬─────────────┐\n",
      "│ l_returnflag │ l_linestatus │      sum_qty       │   sum_base_price   │   sum_disc_price   │     sum_charge     │      avg_qty      │     avg_price     │       avg_disc       │ count_order │\n",
      "│   varchar    │   varchar    │       double       │       double       │       double       │       double       │      double       │      double       │        double        │    int64    │\n",
      "├──────────────┼──────────────┼────────────────────┼────────────────────┼────────────────────┼────────────────────┼───────────────────┼───────────────────┼──────────────────────┼─────────────┤\n",
      "│ A            │ F            │ 23708.989999999994 │ 242292.31999999998 │ 228406.38710000002 │ 234582.20954299998 │ 538.8406818181817 │ 5506.643636363636 │ 0.054772727272727285 │          44 │\n",
      "│ A            │ O            │             850.04 │            7912.41 │  7827.882799999999 │           7896.441 │            425.02 │          3956.205 │                 0.04 │           2 │\n",
      "└──────────────┴──────────────┴────────────────────┴────────────────────┴────────────────────┴────────────────────┴───────────────────┴───────────────────┴──────────────────────┴─────────────┘\n",
      "\n",
      "DuckDB Scan: 0.008519172668457031 seconds\n"
     ]
    }
   ],
   "source": [
    "con = duckdb.connect(':memory:')\n",
    "start = time.time()\n",
    "print(con.from_df(lineitem).filter(\"l_shipdate <= cast('1998-09-02' AS date)\").aggregate(\n",
    "    '''\n",
    "\tl_returnflag,\n",
    "    l_linestatus,\n",
    "    sum(l_quantity) AS sum_qty,\n",
    "    sum(l_extendedprice) AS sum_base_price,\n",
    "    sum(l_extendedprice * (1 - l_discount)) AS sum_disc_price,\n",
    "    sum(l_extendedprice * (1 - l_discount) * (1 + l_tax)) AS sum_charge,\n",
    "    avg(l_quantity) AS avg_qty,\n",
    "    avg(l_extendedprice) AS avg_price,\n",
    "    avg(l_discount) AS avg_disc,\n",
    "    count(*) AS count_order'''\n",
    "))\n",
    "end = time.time()\n",
    "\n",
    "print('DuckDB Scan: ' + str(end - start) + \" seconds\")"
   ]
  },
  {
   "cell_type": "code",
   "execution_count": 19,
   "id": "6c7bd65f",
   "metadata": {},
   "outputs": [
    {
     "data": {
      "text/plain": [
       "[('lineitem', 22544),\n",
       " ('Config', 1072),\n",
       " ('Path', 904),\n",
       " ('create_engine', 144),\n",
       " ('open', 144),\n",
       " ('query1', 144),\n",
       " ('app_dir', 88),\n",
       " ('lineitems_', 85),\n",
       " ('np', 72),\n",
       " ('pd', 72),\n",
       " ('con', 56),\n",
       " ('config', 48),\n",
       " ('engine', 48),\n",
       " ('end', 24),\n",
       " ('start', 24)]"
      ]
     },
     "execution_count": 19,
     "metadata": {},
     "output_type": "execute_result"
    }
   ],
   "source": [
    "ipython_vars = ['In', 'Out', 'exit', 'quit', 'get_ipython', 'ipython_vars']\n",
    "# Get a sorted list of the objects and their sizes\n",
    "sorted([(x, sys.getsizeof(globals().get(x))) for x in dir() if not x.startswith('_') and x not in sys.modules and x not in ipython_vars], key=lambda x: x[1], reverse=True)"
   ]
  }
 ],
 "metadata": {
  "kernelspec": {
   "display_name": "Python 3 (ipykernel)",
   "language": "python",
   "name": "python3"
  },
  "language_info": {
   "codemirror_mode": {
    "name": "ipython",
    "version": 3
   },
   "file_extension": ".py",
   "mimetype": "text/x-python",
   "name": "python",
   "nbconvert_exporter": "python",
   "pygments_lexer": "ipython3",
   "version": "3.10.4"
  }
 },
 "nbformat": 4,
 "nbformat_minor": 5
}
