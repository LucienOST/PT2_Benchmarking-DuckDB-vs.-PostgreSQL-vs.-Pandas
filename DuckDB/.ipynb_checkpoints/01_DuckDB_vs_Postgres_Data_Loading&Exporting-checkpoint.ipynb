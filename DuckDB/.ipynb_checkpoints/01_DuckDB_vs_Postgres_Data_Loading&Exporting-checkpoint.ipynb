{
 "cells": [
  {
   "cell_type": "markdown",
   "id": "d7f6048e",
   "metadata": {},
   "source": [
    "# Testing on-disk data loads and exports with DuckDB \n",
    "\n",
    "In this notebook, the loading (on-disk) and exporting capabilities of DuckDB and Postgare tested. The equivalent SQL code for Postgres is stored under a corresponding Postgres folder. The following steps are processes: <br>\n",
    "\n",
    "- Loading data from multiple csv files into one dataframe (around 20 files of different sizes - 2.5 million rows in total)\n",
    "- Loading data from one big csv file (3.2 million rows)\n",
    "- Exporting the data (from SQL table) into a parquet file.\n",
    "\n",
    "The equivalent SQL code for Postgres is stored under a corresponding Postgres folder. \n",
    "\n",
    "Prerequisite to run this script: \n",
    "- The preceding notebook \"00_Get_Data.ipynb\" must be executed before which stores the csv file under the referred directories.\n",
    "- **Increase buffer size** when running locally  <code> jupyter notebook --NotebookApp.max_buffer_size = your_value*</code>\n",
    " \n",
    " *your_value = desired buffer size in bytes"
   ]
  },
  {
   "cell_type": "code",
   "execution_count": 1,
   "id": "35f00eb2",
   "metadata": {},
   "outputs": [],
   "source": [
    "import os\n",
    "import glob\n",
    "import time\n",
    "import sys\n",
    "\n",
    "import duckdb as ddb"
   ]
  },
  {
   "cell_type": "code",
   "execution_count": 2,
   "id": "8e104f28",
   "metadata": {},
   "outputs": [],
   "source": [
    "# Initial variable for the directory\n",
    "path = os.getcwd()"
   ]
  },
  {
   "cell_type": "markdown",
   "id": "95d3e185",
   "metadata": {},
   "source": [
    "# Test 1: Write from Multiple Files"
   ]
  },
  {
   "cell_type": "code",
   "execution_count": 3,
   "id": "0896eeec",
   "metadata": {},
   "outputs": [],
   "source": [
    "# Path to the GWR csv files on canton level\n",
    "os.chdir(path)\n",
    "os.chdir(\"..\\datasets\\GWR\")"
   ]
  },
  {
   "cell_type": "markdown",
   "id": "209e2e66",
   "metadata": {},
   "source": [
    "### Writing with DuckDB (on-disk)\n",
    "Using the *.connect* method a connection can be made to a persistent database. Any data written to that connection will be persisted, and can be reloaded by re-connecting to the same file."
   ]
  },
  {
   "cell_type": "code",
   "execution_count": 4,
   "id": "d052ef32",
   "metadata": {},
   "outputs": [],
   "source": [
    "# Create a connection to a file called 'GWR.db'\n",
    "con = ddb.connect('GWR.db')"
   ]
  },
  {
   "cell_type": "code",
   "execution_count": 5,
   "id": "ca8e458a",
   "metadata": {},
   "outputs": [
    {
     "name": "stdout",
     "output_type": "stream",
     "text": [
      "Time it took DuckDB to write data from multiple CSV files: 2.1420421600341797\n"
     ]
    }
   ],
   "source": [
    "# Defining the schema. The same schema will be used in Postgres.\n",
    "ct = time.time()\n",
    "con.sql(\"\"\"CREATE OR REPLACE TABLE gwr_subset AS \n",
    "                     SELECT \"EGID\"::INTEGER,\n",
    "                            \"EDID\"::INTEGER,\n",
    "                            \"EGAID\"::BIGINT,\n",
    "                            \"DEINR\"::VARCHAR,\n",
    "                            \"ESID\"::DOUBLE,\n",
    "                            \"STRNAME\"::VARCHAR,\n",
    "                            \"STRNAMK\"::VARCHAR,\n",
    "                            \"STRINDX\"::VARCHAR,\n",
    "                            \"STRSP\"::DOUBLE,\n",
    "                            \"STROFFIZIEL\"::DOUBLE,\n",
    "                            \"DPLZ4\"::INTEGER,\n",
    "                            \"DPLZZ\"::INTEGER,\n",
    "                            \"DPLZNAME\"::VARCHAR,\n",
    "                            \"DKODE\"::DOUBLE,\n",
    "                            \"DKODN\"::DOUBLE,\n",
    "                            \"DOFFADR\"::DOUBLE,\n",
    "                            \"DEXPDAT\"::DATE\n",
    "                        FROM '*.csv'\n",
    "                             \"\"\")\n",
    "print(f\"Time it took DuckDB to write data from multiple CSV files: {(time.time() - ct)}\")"
   ]
  },
  {
   "cell_type": "code",
   "execution_count": 6,
   "id": "478a3ee0",
   "metadata": {},
   "outputs": [
    {
     "name": "stdout",
     "output_type": "stream",
     "text": [
      "Time it took DuckDB to read data from table and create dataframe: 2.074890613555908\n"
     ]
    }
   ],
   "source": [
    "ct = time.time()\n",
    "df = con.execute(\"\"\"SELECT * FROM gwr_subset\"\"\").df()\n",
    "print(f\"Time it took DuckDB to read data from table and create dataframe: {(time.time() - ct)}\")"
   ]
  },
  {
   "cell_type": "markdown",
   "id": "4ceb951b",
   "metadata": {},
   "source": [
    "# Test 2: Loading from Single File"
   ]
  },
  {
   "cell_type": "code",
   "execution_count": 7,
   "id": "4dacdd32",
   "metadata": {},
   "outputs": [],
   "source": [
    "# Path to the single GWR csv file (whole Switzerland)\n",
    "os.chdir(path)\n",
    "os.chdir(\"..\\datasets\\GWR\\GWR_Total\")"
   ]
  },
  {
   "cell_type": "code",
   "execution_count": 9,
   "id": "b38858a2",
   "metadata": {},
   "outputs": [
    {
     "name": "stdout",
     "output_type": "stream",
     "text": [
      "Time it took DuckDB to write data from single CSV file: 2.8915555477142334\n"
     ]
    }
   ],
   "source": [
    "# Defining the schema. The same schema will be used in Postgres.\n",
    "ct = time.time()\n",
    "con.sql(\"\"\"CREATE OR REPLACE TABLE gwr_total AS \n",
    "                     SELECT \"EGID\"::INTEGER,\n",
    "                            \"EDID\"::INTEGER,\n",
    "                            \"EGAID\"::BIGINT,\n",
    "                            \"DEINR\"::VARCHAR,\n",
    "                            \"ESID\"::DOUBLE,\n",
    "                            \"STRNAME\"::VARCHAR,\n",
    "                            \"STRNAMK\"::VARCHAR,\n",
    "                            \"STRINDX\"::VARCHAR,\n",
    "                            \"STRSP\"::DOUBLE,\n",
    "                            \"STROFFIZIEL\"::DOUBLE,\n",
    "                            \"DPLZ4\"::INTEGER,\n",
    "                            \"DPLZZ\"::INTEGER,\n",
    "                            \"DPLZNAME\"::VARCHAR,\n",
    "                            \"DKODE\"::DOUBLE,\n",
    "                            \"DKODN\"::DOUBLE,\n",
    "                            \"DOFFADR\"::DOUBLE,\n",
    "                            \"DEXPDAT\"::DATE\n",
    "                        FROM 'eingang_entree_entrata_total.csv'\n",
    "                             \"\"\")\n",
    "print(f\"Time it took DuckDB to write data from single CSV file: {(time.time() - ct)}\")"
   ]
  }
 ],
 "metadata": {
  "kernelspec": {
   "display_name": "Python 3 (ipykernel)",
   "language": "python",
   "name": "python3"
  },
  "language_info": {
   "codemirror_mode": {
    "name": "ipython",
    "version": 3
   },
   "file_extension": ".py",
   "mimetype": "text/x-python",
   "name": "python",
   "nbconvert_exporter": "python",
   "pygments_lexer": "ipython3",
   "version": "3.10.4"
  }
 },
 "nbformat": 4,
 "nbformat_minor": 5
}
