{
 "cells": [
  {
   "cell_type": "code",
   "execution_count": 1,
   "id": "f5ccfaf1",
   "metadata": {},
   "outputs": [],
   "source": [
    "import time\n",
    "import sys\n",
    "import duckdb\n",
    "import numpy as np\n",
    "import pandas as pd\n",
    "from pathlib import Path\n",
    "from sqlalchemy import create_engine"
   ]
  },
  {
   "cell_type": "code",
   "execution_count": 2,
   "id": "6c8e6730",
   "metadata": {},
   "outputs": [],
   "source": [
    "app_dir = Path().cwd().parent.absolute()\n",
    "sys.path.insert(0, str(app_dir))"
   ]
  },
  {
   "cell_type": "code",
   "execution_count": 3,
   "id": "d2884045",
   "metadata": {},
   "outputs": [],
   "source": [
    "from app.configuration import Config\n",
    "from app.functions import query1"
   ]
  },
  {
   "cell_type": "code",
   "execution_count": 4,
   "id": "cbbbc970",
   "metadata": {},
   "outputs": [],
   "source": [
    "config = Config()\n",
    "engine = create_engine(config.tpch_database)"
   ]
  },
  {
   "cell_type": "code",
   "execution_count": null,
   "id": "d4e3a9d8",
   "metadata": {},
   "outputs": [],
   "source": [
    "lineitems_ = \"\"\"SELECT FROM tpch.lineitem LIMIT 50\"\"\"\n",
    "with engine.connect() as con:\n",
    "    lineitem = pd.read_sql(lineitems_, con, parse_dates=['l_shipdate', 'l_commitdate', 'l_receiptdate'])\n",
    "lineitem.head(2)"
   ]
  }
 ],
 "metadata": {
  "kernelspec": {
   "display_name": "Python 3 (ipykernel)",
   "language": "python",
   "name": "python3"
  },
  "language_info": {
   "codemirror_mode": {
    "name": "ipython",
    "version": 3
   },
   "file_extension": ".py",
   "mimetype": "text/x-python",
   "name": "python",
   "nbconvert_exporter": "python",
   "pygments_lexer": "ipython3",
   "version": "3.10.4"
  }
 },
 "nbformat": 4,
 "nbformat_minor": 5
}
