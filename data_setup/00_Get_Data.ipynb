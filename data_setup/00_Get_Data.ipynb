{
 "cells": [
  {
   "cell_type": "markdown",
   "id": "175f3813",
   "metadata": {},
   "source": [
    "## Downloading Housing Stat. Data from GWR\n",
    "\n",
    "In this initial notebook, the puplicly available GWR data is downloaded. The data is later used on the first benchmarking step which will test data read/write capabilities form the three tools DuckDB, Pandas, and PostgreSQL.\n",
    "\n",
    "\n",
    "GWR data from: https://www.housing-stat.ch/de/madd/public.html <br>\n",
    "Load data from: https://public.madd.bfs.admin.ch/ch.zip as zip.file"
   ]
  },
  {
   "cell_type": "code",
   "execution_count": 1,
   "id": "7b503f3e",
   "metadata": {},
   "outputs": [],
   "source": [
    "import os\n",
    "import sys\n",
    "import csv\n",
    "import zipfile\n",
    "import urllib.request"
   ]
  },
  {
   "cell_type": "code",
   "execution_count": 2,
   "id": "db497657",
   "metadata": {},
   "outputs": [],
   "source": [
    "os.chdir(\"..\\datasets\\GWR\")\n",
    "path = os.getcwd()"
   ]
  },
  {
   "cell_type": "markdown",
   "id": "2931b5b3",
   "metadata": {},
   "source": [
    "## Step 1: Download CSV files for multiple cantons\n",
    "\n",
    "**Why loading each canton individually?**<br>\n",
    "For the later benchmark test, a realistic scenario is data coming from multiple csv files. Therefore, the data from a defined set of cantons is loaded and stored as individual files."
   ]
  },
  {
   "cell_type": "code",
   "execution_count": null,
   "id": "d3e3b206",
   "metadata": {},
   "outputs": [],
   "source": [
    "# defined cantons of which data should be retrieved - limit is 20 due to API restrictions\n",
    "cantons = ['zh', 'sg', 'be', 'vd','gr','lu','bs','ge','ti','vs','ag','ai','sh','sz','zg', 'gl', 'ur']"
   ]
  },
  {
   "cell_type": "markdown",
   "id": "b3728ff8",
   "metadata": {},
   "source": [
    "### Loading the GWR Data for a set of Cantons and extract the CSV files\n",
    "The following code downloads several ZIP filer from the GWR homepage which are subsequently unzipped. "
   ]
  },
  {
   "cell_type": "code",
   "execution_count": null,
   "id": "3a3d3ccd",
   "metadata": {},
   "outputs": [],
   "source": [
    "for canton in cantons:\n",
    "    try:\n",
    "        url= f'https://public.madd.bfs.admin.ch/{canton}.zip'\n",
    "        file = f'\\{canton}.zip'\n",
    "        filepath = path + file\n",
    "        urllib.request.urlretrieve(url=url,filename=filepath) # 20 calls per min is max.\n",
    "        with zipfile.ZipFile(f'{canton}.zip') as z:\n",
    "            z.extract('eingang_entree_entrata.csv')\n",
    "        os.rename('eingang_entree_entrata.csv', f'eingang_entree_entrata_{canton}.csv')\n",
    "    except:\n",
    "        print(\"File downloaded failed for: \" + canton)"
   ]
  },
  {
   "cell_type": "markdown",
   "id": "c7025558",
   "metadata": {},
   "source": [
    "### Optional: Delete ZIP files since they are no longer needed"
   ]
  },
  {
   "cell_type": "code",
   "execution_count": null,
   "id": "e48d2e22",
   "metadata": {},
   "outputs": [],
   "source": [
    "for canton in cantons:\n",
    "    os.remove(f'{canton}.zip')"
   ]
  },
  {
   "cell_type": "markdown",
   "id": "3c2582de",
   "metadata": {},
   "source": [
    "# Step 2: Download single CSV file for whole Switzerland\n",
    "This file is stored in a separate folder for the subsequent testing."
   ]
  },
  {
   "cell_type": "code",
   "execution_count": 3,
   "id": "d5c16eec",
   "metadata": {},
   "outputs": [],
   "source": [
    "os.chdir(\"GWR_Total\")\n",
    "path = os.getcwd()"
   ]
  },
  {
   "cell_type": "code",
   "execution_count": 4,
   "id": "c322f43d",
   "metadata": {},
   "outputs": [],
   "source": [
    "try:\n",
    "    url= 'https://public.madd.bfs.admin.ch/ch.zip'\n",
    "    file = '\\ch.zip'\n",
    "    filepath = path + file\n",
    "    urllib.request.urlretrieve(url=url,filename=filepath)\n",
    "    with zipfile.ZipFile('ch.zip') as z:\n",
    "        z.extract('eingang_entree_entrata.csv')\n",
    "    os.rename('eingang_entree_entrata.csv', 'eingang_entree_entrata_total.csv')\n",
    "except:\n",
    "    print(\"File downloaded failed\")"
   ]
  },
  {
   "cell_type": "markdown",
   "id": "5ea19496",
   "metadata": {},
   "source": [
    "### Optional: Delete ZIP file since they are no longer needed"
   ]
  },
  {
   "cell_type": "code",
   "execution_count": 5,
   "id": "d6eaa239",
   "metadata": {},
   "outputs": [],
   "source": [
    "os.remove('ch.zip')"
   ]
  }
 ],
 "metadata": {
  "kernelspec": {
   "display_name": "Python 3 (ipykernel)",
   "language": "python",
   "name": "python3"
  },
  "language_info": {
   "codemirror_mode": {
    "name": "ipython",
    "version": 3
   },
   "file_extension": ".py",
   "mimetype": "text/x-python",
   "name": "python",
   "nbconvert_exporter": "python",
   "pygments_lexer": "ipython3",
   "version": "3.10.4"
  }
 },
 "nbformat": 4,
 "nbformat_minor": 5
}
